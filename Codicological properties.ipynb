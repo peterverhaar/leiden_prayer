{
 "cells": [
  {
   "cell_type": "code",
   "execution_count": null,
   "id": "41b06829",
   "metadata": {},
   "outputs": [],
   "source": []
  },
  {
   "cell_type": "code",
   "execution_count": 1,
   "id": "653ce062",
   "metadata": {},
   "outputs": [],
   "source": [
    "import pandas as pd\n",
    "import plotly.express as px\n",
    "import numpy as np\n",
    "from os.path import join\n",
    "import json\n",
    "import re\n",
    "from collections import Counter\n",
    "from tqdm import tqdm\n",
    "import seqsim"
   ]
  },
  {
   "cell_type": "code",
   "execution_count": 2,
   "id": "052b9de4",
   "metadata": {},
   "outputs": [],
   "source": [
    "path = 'production_layer.json'\n",
    "json_file = open(path)\n",
    "json_data = json.load(json_file)"
   ]
  },
  {
   "cell_type": "markdown",
   "id": "c54abaae",
   "metadata": {},
   "source": [
    "## Number of lines"
   ]
  },
  {
   "cell_type": "code",
   "execution_count": 3,
   "id": "b7a4cd28",
   "metadata": {},
   "outputs": [],
   "source": [
    "data = []\n",
    "\n",
    "for book in json_data:\n",
    "    if 'date' in book:\n",
    "        year = int(str(book['date'])[:4])\n",
    "        if year < 1450:\n",
    "            if 'nr_lines' in book:\n",
    "                data.append(book['nr_lines'])\n",
    "                \n",
    "lines_freq = Counter(data)\n",
    "\n",
    "x_axis = []\n",
    "y_axis = []\n",
    "\n",
    "for lines in sorted(lines_freq):\n",
    "    x_axis.append(lines)\n",
    "    y_axis.append(lines_freq[lines])\n",
    "    \n",
    "fig = px.bar( x= x_axis , \n",
    "             y = y_axis ,\n",
    "                height=350 , \n",
    "             labels={\n",
    "                     \"x\": \"Number of lines\",\n",
    "                     \"y\": \"Frequency\"\n",
    "                 },)\n",
    "\n",
    "fig.write_image('number_of_lines.png')"
   ]
  },
  {
   "cell_type": "markdown",
   "id": "f2a1a7b7",
   "metadata": {},
   "source": [
    "## Book Block Height"
   ]
  },
  {
   "cell_type": "code",
   "execution_count": 4,
   "id": "de9936d9",
   "metadata": {},
   "outputs": [],
   "source": [
    "data = []\n",
    "\n",
    "for book in json_data:\n",
    "    if 'date' in book:\n",
    "        year = int(str(book['date'])[:4])\n",
    "        if year < 1450:\n",
    "            if 'book_block_height' in book:\n",
    "                data.append(int(book['book_block_height']))\n",
    "                \n",
    "\n",
    "                \n",
    "lines_freq = Counter(data)\n",
    "\n",
    "x_axis = []\n",
    "y_axis = []\n",
    "\n",
    "for lines in sorted(lines_freq):\n",
    "    x_axis.append(lines)\n",
    "    y_axis.append(lines_freq[lines])\n",
    "    \n",
    "fig = px.bar( x= x_axis , \n",
    "             y = y_axis ,\n",
    "                height=350 , \n",
    "             width = 1000 ,\n",
    "             labels={\n",
    "                     \"x\": \"Book block Height\",\n",
    "                     \"y\": \"Frequency\"\n",
    "                 },)\n",
    "\n",
    "fig.write_image('book_block_height.png')"
   ]
  },
  {
   "cell_type": "code",
   "execution_count": 5,
   "id": "b9a2db4d",
   "metadata": {},
   "outputs": [],
   "source": [
    "fig = px.box(y=x_axis , height=450 )\n",
    "fig.write_image('book_block_height_boxplot.png')"
   ]
  },
  {
   "cell_type": "markdown",
   "id": "0be8682e",
   "metadata": {},
   "source": [
    "# Text Surface Height"
   ]
  },
  {
   "cell_type": "code",
   "execution_count": 6,
   "id": "dbb7c399",
   "metadata": {},
   "outputs": [],
   "source": [
    "data = []\n",
    "\n",
    "for book in json_data:\n",
    "    if 'date' in book:\n",
    "        year = int(str(book['date'])[:4])\n",
    "        if year < 1450:\n",
    "            if 'text_surface_height' in book:\n",
    "                data.append(float(book['text_surface_height']))\n",
    "                \n",
    "\n",
    "                \n",
    "lines_freq = Counter(data)\n",
    "\n",
    "x_axis = []\n",
    "y_axis = []\n",
    "\n",
    "for lines in sorted(lines_freq):\n",
    "    x_axis.append(lines)\n",
    "    y_axis.append(lines_freq[lines])\n",
    "    \n",
    "fig = px.bar( x= x_axis , \n",
    "             y = y_axis ,\n",
    "                height=350 ,\n",
    "             labels={\n",
    "                     \"x\": \"Text surface height\",\n",
    "                     \"y\": \"Frequency\"\n",
    "                 },)\n",
    "\n",
    "fig.write_image('text_surface.png')"
   ]
  },
  {
   "cell_type": "code",
   "execution_count": 7,
   "id": "3f2b7808",
   "metadata": {},
   "outputs": [],
   "source": [
    "fig = px.box(y=x_axis , height=450 )\n",
    "fig.write_image('text_surface_boxplot.png')"
   ]
  },
  {
   "cell_type": "code",
   "execution_count": null,
   "id": "ee894fa9",
   "metadata": {},
   "outputs": [],
   "source": []
  }
 ],
 "metadata": {
  "kernelspec": {
   "display_name": "Python 3 (ipykernel)",
   "language": "python",
   "name": "python3"
  },
  "language_info": {
   "codemirror_mode": {
    "name": "ipython",
    "version": 3
   },
   "file_extension": ".py",
   "mimetype": "text/x-python",
   "name": "python",
   "nbconvert_exporter": "python",
   "pygments_lexer": "ipython3",
   "version": "3.7.9"
  }
 },
 "nbformat": 4,
 "nbformat_minor": 5
}
