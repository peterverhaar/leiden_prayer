{
 "cells": [
  {
   "cell_type": "markdown",
   "id": "5dc8c7c3",
   "metadata": {},
   "source": [
    "Add:\n",
    "\n",
    "* Year of the book\n",
    "* Identification number of the text"
   ]
  },
  {
   "cell_type": "code",
   "execution_count": 1,
   "id": "66786f0a",
   "metadata": {},
   "outputs": [],
   "source": [
    "import pandas as pd\n",
    "from os.path import join\n",
    "import json\n",
    "import re\n",
    "from collections import Counter\n",
    "from tqdm import tqdm\n",
    "\n",
    "\n",
    "\n",
    "def clean_title(title):\n",
    "    title = re.sub(r'\\s+',' ',title)\n",
    "    title = re.sub(r'<\\/b>','',title)\n",
    "    title = re.sub(r',','',title)\n",
    "    return title\n",
    "\n",
    "def regularise_sequence_number(seq_nr):\n",
    "    seq_nr = str(seq_nr)\n",
    "    max_length = 4\n",
    "    if re.search(r'^\\d+$',seq_nr):\n",
    "        seq_nr = seq_nr.zfill(max_length)\n",
    "    else:\n",
    "        nr_char = len(seq_nr)\n",
    "        leading_char = max_length - nr_char\n",
    "        seq_nr = '9'*(leading_char)+'-'+seq_nr\n",
    "    return seq_nr"
   ]
  },
  {
   "cell_type": "code",
   "execution_count": 2,
   "id": "46d645f2",
   "metadata": {},
   "outputs": [],
   "source": [
    "path = join('..','Export','Export_leiden_prayer_20250218131307.json')\n",
    "json_file = open(path)\n",
    "json_data = json.load(json_file)\n",
    "records = json_data['heurist']['records']"
   ]
  },
  {
   "cell_type": "markdown",
   "id": "26f71d5d",
   "metadata": {},
   "source": [
    "* 102 - Production layer\n",
    "* 112 - Expression\n",
    "* 123 - Text\n",
    "* 1 - Record relationship"
   ]
  },
  {
   "cell_type": "markdown",
   "id": "8a1d1e39",
   "metadata": {},
   "source": [
    "## Collect the titles\n",
    "\n",
    "This creates a dictionary connected Heurist IDs to titles"
   ]
  },
  {
   "cell_type": "code",
   "execution_count": 3,
   "id": "8f6ce992",
   "metadata": {},
   "outputs": [],
   "source": [
    "titles = dict()\n",
    "production_dates = dict()\n",
    "book_types = dict()\n",
    "\n",
    "for record in records:\n",
    "    \n",
    "    # Text\n",
    "    if record['rec_RecTypeID'] == '123':\n",
    "        H_ID = int(record['rec_ID'])\n",
    "        for field in record['details']:\n",
    "            if field['dty_ID']==1152:\n",
    "                title = field['value']\n",
    "                titles[H_ID] = title\n",
    "                \n",
    "    # Production Layer\n",
    "    if record['rec_RecTypeID'] == '102':\n",
    "        H_ID = int(record['rec_ID'])\n",
    "\n",
    "        for field in record['details']:\n",
    "            \n",
    "            if field['dty_ID']==1201:\n",
    "                book_types[H_ID] = field['termLabel']\n",
    "\n",
    "            if field['dty_ID']==1145:\n",
    "                field_value = field['value']\n",
    "\n",
    "                if re.search( r'^[\\dXx]{4}(-\\d{2})?(-\\d{2})?$' , str(field_value)):\n",
    "                    production_dates[H_ID] = int(str(field_value)[:4])\n",
    "                    \n",
    "                elif 'estMinDate' in field_value and 'estMaxDate' in field_value:\n",
    "                    min_date = field_value['estMinDate']\n",
    "                    max_date = field_value['estMaxDate']\n",
    "                    average = (min_date+max_date)/2\n",
    "                    production_dates[H_ID] = round(average)\n",
    "\n",
    "                else:\n",
    "                    print('Problem', end=': ')\n",
    "                    print(field_value)\n",
    "  \n",
    "            \n",
    "            if field['dty_ID']==1098:\n",
    "                title = field['value']\n",
    "                title = re.sub('\\'S-GRAVENHAGE, KB\\s*','KB NL',title)\n",
    "                title = re.sub('BRUSSEL, KB\\s*','KB BE',title)\n",
    "                title = re.sub('KOPENHAGEN, KB\\s*','KB DE',title)\n",
    "                title = re.sub('LEIDEN, UB\\s*','UBL',title)\n",
    "                title = re.sub('LONDEN, BL\\s*','BL',title)\n",
    "                title = re.sub('PARIJS, BN\\s*','BNF',title)\n",
    "                \n",
    "                titles[H_ID] = title\n",
    "\n",
    "                "
   ]
  },
  {
   "cell_type": "markdown",
   "id": "8d386835",
   "metadata": {},
   "source": [
    "\n",
    "\n",
    "        "
   ]
  },
  {
   "cell_type": "code",
   "execution_count": 4,
   "id": "ee3cb4a9",
   "metadata": {},
   "outputs": [],
   "source": [
    "rows = []\n",
    "\n",
    "for record in records:\n",
    "    \n",
    "    # Expression\n",
    "    if record['rec_RecTypeID']=='112':\n",
    "        \n",
    "        book = None\n",
    "        text = None\n",
    "        sequence_numer = None\n",
    "        \n",
    "        row = []\n",
    "        \n",
    "        for field in record['details']:\n",
    "            \n",
    "            if field['dty_ID']==1274:\n",
    "                book = int(field['value']['id'])\n",
    "            if field['dty_ID']==1193:\n",
    "                text = int(field['value']['id'])\n",
    "                text_id = None\n",
    "                if re.search(r':',str(field['value']['title'])):\n",
    "                    text_id = field['value']['title']\n",
    "                    text_id = text_id[:text_id.index(':')]\n",
    "            if field['dty_ID']==1094:\n",
    "                sequence_number=field['value']\n",
    "                \n",
    "        if book is not None and text is not None:\n",
    "            row.append(book)\n",
    "            row.append(text)\n",
    "            row.append(text_id)\n",
    "            row.append(sequence_number)\n",
    "            rows.append(row)\n",
    "\n",
    "texts_in_books = pd.DataFrame(rows,columns=['book','text','text_id','sequence_number'])   \n",
    "texts_in_books['sequence_number'] = texts_in_books['sequence_number'].apply(regularise_sequence_number)"
   ]
  },
  {
   "cell_type": "code",
   "execution_count": 5,
   "id": "c4efff92",
   "metadata": {},
   "outputs": [
    {
     "name": "stdout",
     "output_type": "stream",
     "text": [
      "303 books were found.\n"
     ]
    }
   ],
   "source": [
    "books = texts_in_books['book'].unique().tolist()\n",
    "print(f'{len(books)} books were found.')"
   ]
  },
  {
   "cell_type": "code",
   "execution_count": 6,
   "id": "7317bdb6",
   "metadata": {},
   "outputs": [],
   "source": [
    "book_json = []\n",
    "\n",
    "for book in books:\n",
    "    \n",
    "    book_dict = dict()\n",
    "    book_dict['id'] = book \n",
    "    book_dict['title'] = titles.get(book,'')\n",
    "    book_dict['year'] = production_dates.get(book)\n",
    "    book_dict['type'] = book_types[book]\n",
    "    \n",
    "    texts = texts_in_books.query( f'book=={book}')\n",
    "    texts = texts.sort_values(by='sequence_number')\n",
    "    \n",
    "    texts_dict = []\n",
    "    \n",
    "    for i,row in texts.iterrows():\n",
    "        text_dict = dict()\n",
    "        text_dict['id'] = row['text']\n",
    "        text_dict['title'] = titles.get(row['text'])\n",
    "        text_dict['text_id'] = row['text_id']\n",
    "        text_dict['sequence_number'] = row['sequence_number']\n",
    "        texts_dict.append(text_dict)\n",
    "        \n",
    "    book_dict['texts'] = texts_dict\n",
    "    \n",
    "    book_json.append(book_dict)\n",
    "\n",
    "\n",
    "with open('texts_in_books.json','w',encoding='utf-8') as out:\n",
    "    out.write(json.dumps(book_json))\n"
   ]
  }
 ],
 "metadata": {
  "kernelspec": {
   "display_name": "Python 3 (ipykernel)",
   "language": "python",
   "name": "python3"
  },
  "language_info": {
   "codemirror_mode": {
    "name": "ipython",
    "version": 3
   },
   "file_extension": ".py",
   "mimetype": "text/x-python",
   "name": "python",
   "nbconvert_exporter": "python",
   "pygments_lexer": "ipython3",
   "version": "3.7.9"
  }
 },
 "nbformat": 4,
 "nbformat_minor": 5
}
