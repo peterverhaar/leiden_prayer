{
 "cells": [
  {
   "cell_type": "markdown",
   "id": "00d26031",
   "metadata": {},
   "source": [
    "\n",
    "# Download texts"
   ]
  },
  {
   "cell_type": "code",
   "execution_count": null,
   "id": "65d35f2d",
   "metadata": {},
   "outputs": [],
   "source": [
    "import requests\n",
    "import os\n",
    "from bs4 import BeautifulSoup\n",
    "import json\n",
    "\n",
    "\n",
    "max_id = 50000\n",
    "\n",
    "\n",
    "for i in range(1,(max_id+1)):\n",
    "    url = f'https://bnm-i.huygens.knaw.nl/api/domain/ebnmteksten/TEXT{ str(i).rjust(12, \"0\" )  }'\n",
    "    print(url)\n",
    "\n",
    "    response = requests.get(url)\n",
    "    TEXT_id = os.path.basename(url)\n",
    "    \n",
    "    if response.status_code == 200:\n",
    "        response.encoding = 'utf-8'\n",
    "        html_page = response.text\n",
    "        soup = BeautifulSoup( html_page,\"lxml\")\n",
    "\n",
    "        p = soup.find('p')\n",
    "        \n",
    "        path = os.path.join( 'BNM_texts' , f'{TEXT_id}.json' ) \n",
    "\n",
    "        out = open( path , 'w' , encoding = 'utf-8' )\n",
    "        out.write(p.text)\n",
    "        out.close()\n",
    "\n"
   ]
  },
  {
   "cell_type": "markdown",
   "id": "91e641f9",
   "metadata": {},
   "source": [
    "\n",
    "# Download Text carriers\n"
   ]
  },
  {
   "cell_type": "code",
   "execution_count": null,
   "id": "cd57a8ef",
   "metadata": {},
   "outputs": [],
   "source": [
    "\n",
    "import requests\n",
    "import os\n",
    "from bs4 import BeautifulSoup\n",
    "import json\n",
    "\n",
    "\n",
    "max_id = 20000\n",
    "\n",
    "for i in range(1,max_id+1):\n",
    "\n",
    "    url = f'https://bnm-i.huygens.knaw.nl/api/domain/ebnmtekstdragers/TDRA{i}'\n",
    "\n",
    "    response = requests.get(url)\n",
    "\n",
    "    if response.status_code == 200:\n",
    "        TDRA_id = os.path.basename(url)\n",
    "        response.encoding = 'utf-8'\n",
    "        html_page = response.text\n",
    "        soup = BeautifulSoup( html_page,\"lxml\")\n",
    "\n",
    "        p = soup.find('p')\n",
    "\n",
    "        json_data = json.loads(p.text)\n",
    "        path = os.path.join( 'BNM_carriers' , f'{TDRA_id}.json' )\n",
    "\n",
    "        out = open( path , 'w' , encoding = 'utf-8' )\n",
    "        out.write(p.text)\n",
    "        out.close()\n",
    "\n",
    "\n"
   ]
  }
 ],
 "metadata": {
  "kernelspec": {
   "display_name": "Python 3 (ipykernel)",
   "language": "python",
   "name": "python3"
  },
  "language_info": {
   "codemirror_mode": {
    "name": "ipython",
    "version": 3
   },
   "file_extension": ".py",
   "mimetype": "text/x-python",
   "name": "python",
   "nbconvert_exporter": "python",
   "pygments_lexer": "ipython3",
   "version": "3.7.9"
  }
 },
 "nbformat": 4,
 "nbformat_minor": 5
}
