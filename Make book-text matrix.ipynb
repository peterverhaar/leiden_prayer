{
 "cells": [
  {
   "cell_type": "code",
   "execution_count": 1,
   "id": "593b6d41",
   "metadata": {},
   "outputs": [],
   "source": [
    "from os.path import join\n",
    "import json\n",
    "from collections import Counter\n",
    "from itertools import combinations\n",
    "import numpy as np\n",
    "import pandas as pd\n",
    "\n",
    "\n",
    "def all_combinations(texts_list, n):\n",
    "    #c = np.array(texts_list, dtype=np.int16)\n",
    "    return list(combinations(texts_list, n))\n",
    "\n",
    "merge_numbers = dict()\n",
    "merge_numbers['540'] = ['G004a','G004b','G004c', 'G004d']\n",
    "merge_numbers['134925'] = ['G155a_G189c','G155b_G189c','G155c_G189c','G155d_G189c','G155e_G189c']\n"
   ]
  },
  {
   "cell_type": "code",
   "execution_count": 2,
   "id": "93e08c5c",
   "metadata": {},
   "outputs": [],
   "source": [
    "texts_to_exclude = [ 'G151','G152','G153','G153a','G154','G155a','G155b','G155c','G155d','G155e','G156','G156b','G157','G158','G158b' ] \n",
    "\n",
    "## Additionally, exclude texts without identification\n",
    "\n",
    "path = 'texts_in_books.json'\n",
    "json_file = open(path)\n",
    "json_data = json.load(json_file)"
   ]
  },
  {
   "cell_type": "markdown",
   "id": "16f48fca",
   "metadata": {},
   "source": [
    "## Make a list of all texts"
   ]
  },
  {
   "cell_type": "code",
   "execution_count": 3,
   "id": "9630133d",
   "metadata": {},
   "outputs": [
    {
     "name": "stdout",
     "output_type": "stream",
     "text": [
      "303\n",
      "1314\n"
     ]
    }
   ],
   "source": [
    "\n",
    "book_ids = []\n",
    "\n",
    "for book in json_data:\n",
    "    book_ids.append(book['id'])\n",
    "    \n",
    "book_ids = list(set(book_ids))\n",
    "print(len(book_ids))\n",
    "    \n",
    "all_texts = []\n",
    "\n",
    "for book_id in book_ids:\n",
    "\n",
    "    for book in json_data:\n",
    "        if book['id'] == book_id:\n",
    "            texts = book['texts']\n",
    "            for text in texts:\n",
    "                text_hid = text['id']\n",
    "                text_pid = text['text_id']\n",
    "                for to_merge in merge_numbers:\n",
    "                    if text_pid in merge_numbers[to_merge]:\n",
    "                        text_hid = to_merge\n",
    "                if text_pid is not None and text_pid not in texts_to_exclude:\n",
    "                    all_texts.append(text_hid)\n",
    "\n",
    "all_texts = list(set(all_texts))\n",
    "print(len(all_texts))\n",
    "\n"
   ]
  },
  {
   "cell_type": "code",
   "execution_count": 4,
   "id": "8bf45fd2",
   "metadata": {},
   "outputs": [],
   "source": [
    "rows = []\n",
    "\n",
    "for book_id in book_ids:\n",
    "    \n",
    "\n",
    "    for book in json_data:\n",
    "        if book['id'] == book_id:\n",
    "            \n",
    "            if book['type']=='Manuscript':\n",
    "                \n",
    "                row = []\n",
    "                row.append(book_id)\n",
    "\n",
    "                texts = book['texts']\n",
    "                texts_list = []\n",
    "                for text in texts:\n",
    "                    texts_list.append(text['id'])\n",
    "\n",
    "                for text in all_texts:\n",
    "                    if text in texts_list:\n",
    "                        row.append(1)\n",
    "                    else:\n",
    "                        row.append(0)\n",
    "                \n",
    "                rows.append(row)\n",
    "            "
   ]
  },
  {
   "cell_type": "code",
   "execution_count": 5,
   "id": "4cdcd142",
   "metadata": {},
   "outputs": [],
   "source": [
    "columns = ['book_id']\n",
    "columns.extend(all_texts)\n",
    "df = pd.DataFrame(rows,columns=columns)\n",
    "df = df.set_index('book_id')"
   ]
  },
  {
   "cell_type": "code",
   "execution_count": 6,
   "id": "2c3e2938",
   "metadata": {},
   "outputs": [],
   "source": [
    "df.to_csv('book_text_matrix.csv')"
   ]
  },
  {
   "cell_type": "code",
   "execution_count": null,
   "id": "2a217d03",
   "metadata": {},
   "outputs": [],
   "source": []
  },
  {
   "cell_type": "code",
   "execution_count": null,
   "id": "3b949e31",
   "metadata": {},
   "outputs": [],
   "source": []
  }
 ],
 "metadata": {
  "kernelspec": {
   "display_name": "Python 3 (ipykernel)",
   "language": "python",
   "name": "python3"
  },
  "language_info": {
   "codemirror_mode": {
    "name": "ipython",
    "version": 3
   },
   "file_extension": ".py",
   "mimetype": "text/x-python",
   "name": "python",
   "nbconvert_exporter": "python",
   "pygments_lexer": "ipython3",
   "version": "3.7.9"
  }
 },
 "nbformat": 4,
 "nbformat_minor": 5
}
